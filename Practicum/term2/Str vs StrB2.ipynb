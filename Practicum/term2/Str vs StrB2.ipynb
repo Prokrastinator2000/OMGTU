{
 "cells": [
  {
   "cell_type": "code",
   "execution_count": 27,
   "metadata": {
    "dotnet_interactive": {
     "language": "csharp"
    },
    "polyglot_notebook": {
     "kernelName": "csharp"
    }
   },
   "outputs": [
    {
     "name": "stdout",
     "output_type": "stream",
     "text": [
      "1044532387\n",
      "00:00:00.0904757\n"
     ]
    }
   ],
   "source": [
    "using System.Text;\n",
    "using System.Diagnostics;\n",
    "Stopwatch Time = new Stopwatch();\n",
    "Time.Start();\n",
    "string Line = \"0123456789\";\n",
    "Random RandomElem = new Random();\n",
    "for (int i=0; i<1000000;i++)\n",
    "{\n",
    "    string Elem = Convert.ToString(RandomElem.Next(0,9));\n",
    "    Line = Line.Remove(i%10,1);\n",
    "    Line = Line.Insert(i%10,Elem);\n",
    "}\n",
    "Console.WriteLine(Line);\n",
    "Time.Stop();\n",
    "Console.WriteLine(Time.Elapsed);"
   ]
  },
  {
   "cell_type": "code",
   "execution_count": 28,
   "metadata": {
    "dotnet_interactive": {
     "language": "csharp"
    },
    "polyglot_notebook": {
     "kernelName": "csharp"
    }
   },
   "outputs": [
    {
     "name": "stdout",
     "output_type": "stream",
     "text": [
      "3604207577\n",
      "00:00:00.0174573\n"
     ]
    }
   ],
   "source": [
    "using System.Text;\n",
    "using System.Diagnostics;\n",
    "Stopwatch Time = new Stopwatch();\n",
    "Time.Start();\n",
    "StringBuilder Line = new StringBuilder(\"0123456789\");\n",
    "Random RandomElem = new Random();\n",
    "for (int i = 0; i<1000000;i++)\n",
    "{\n",
    "    string Elem = Convert.ToString(RandomElem.Next(0,9));\n",
    "    Line[i%10] = Convert.ToString(Elem)[0];\n",
    "}\n",
    "Console.WriteLine(Line);\n",
    "Time.Stop();\n",
    "Console.WriteLine(Time.Elapsed);"
   ]
  }
 ],
 "metadata": {
  "kernelspec": {
   "display_name": ".NET (C#)",
   "language": "C#",
   "name": ".net-csharp"
  },
  "language_info": {
   "name": "polyglot-notebook"
  },
  "polyglot_notebook": {
   "kernelInfo": {
    "defaultKernelName": "csharp",
    "items": [
     {
      "aliases": [],
      "languageName": "csharp",
      "name": "csharp"
     }
    ]
   }
  }
 },
 "nbformat": 4,
 "nbformat_minor": 2
}
